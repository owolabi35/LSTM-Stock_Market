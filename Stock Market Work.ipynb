{
 "cells": [
  {
   "cell_type": "code",
   "execution_count": 1,
   "id": "f093a168",
   "metadata": {},
   "outputs": [],
   "source": [
    "from sklearn.preprocessing import QuantileTransformer"
   ]
  },
  {
   "cell_type": "code",
   "execution_count": 2,
   "id": "04056ee6",
   "metadata": {},
   "outputs": [],
   "source": [
    "#Importing the Libraries\n",
    "import pandas as pd\n",
    "import numpy as np\n",
    "%matplotlib inline\n",
    "import matplotlib.pyplot as plt\n",
    "import matplotlib\n",
    "\n",
    "from keras.layers import LSTM, Dense, Dropout\n",
    "from sklearn.model_selection import TimeSeriesSplit\n",
    "from sklearn.metrics import mean_squared_error, r2_score\n",
    "import matplotlib.dates as mandates\n",
    "#from sklearn.Preprocessing import MinMaxScaler\n",
    "from sklearn import linear_model\n",
    "from keras.models import Sequential\n",
    "from keras.layers import Dense\n",
    "import keras.backend as K\n",
    "from keras.callbacks import EarlyStopping\n",
    "\n",
    "from keras.optimizers import gradient_descent_v2 \n",
    "from keras.models import load_model\n",
    "from keras.layers import LSTM\n",
    "from keras.utils.vis_utils import plot_model"
   ]
  },
  {
   "cell_type": "code",
   "execution_count": 3,
   "id": "b93e6142",
   "metadata": {},
   "outputs": [],
   "source": [
    "import plotly.graph_objects as go"
   ]
  },
  {
   "cell_type": "code",
   "execution_count": 4,
   "id": "7e0b8aac",
   "metadata": {},
   "outputs": [],
   "source": [
    "from datetime import datetime\n",
    "import pandas_datareader.data as web\n",
    "\n",
    "stock = 'MSFT'\n",
    "start = datetime(2019, 1, 1)\n",
    "\n",
    "df = web.DataReader(stock, data_source='yahoo', start=start)"
   ]
  },
  {
   "cell_type": "code",
   "execution_count": 5,
   "id": "c6e5ccde",
   "metadata": {},
   "outputs": [
    {
     "data": {
      "text/html": [
       "<div>\n",
       "<style scoped>\n",
       "    .dataframe tbody tr th:only-of-type {\n",
       "        vertical-align: middle;\n",
       "    }\n",
       "\n",
       "    .dataframe tbody tr th {\n",
       "        vertical-align: top;\n",
       "    }\n",
       "\n",
       "    .dataframe thead th {\n",
       "        text-align: right;\n",
       "    }\n",
       "</style>\n",
       "<table border=\"1\" class=\"dataframe\">\n",
       "  <thead>\n",
       "    <tr style=\"text-align: right;\">\n",
       "      <th></th>\n",
       "      <th>High</th>\n",
       "      <th>Low</th>\n",
       "      <th>Open</th>\n",
       "      <th>Close</th>\n",
       "      <th>Volume</th>\n",
       "      <th>Adj Close</th>\n",
       "    </tr>\n",
       "    <tr>\n",
       "      <th>Date</th>\n",
       "      <th></th>\n",
       "      <th></th>\n",
       "      <th></th>\n",
       "      <th></th>\n",
       "      <th></th>\n",
       "      <th></th>\n",
       "    </tr>\n",
       "  </thead>\n",
       "  <tbody>\n",
       "    <tr>\n",
       "      <th>2019-01-02</th>\n",
       "      <td>101.750000</td>\n",
       "      <td>98.940002</td>\n",
       "      <td>99.550003</td>\n",
       "      <td>101.120003</td>\n",
       "      <td>35329300.0</td>\n",
       "      <td>97.782433</td>\n",
       "    </tr>\n",
       "    <tr>\n",
       "      <th>2019-01-03</th>\n",
       "      <td>100.190002</td>\n",
       "      <td>97.199997</td>\n",
       "      <td>100.099998</td>\n",
       "      <td>97.400002</td>\n",
       "      <td>42579100.0</td>\n",
       "      <td>94.185211</td>\n",
       "    </tr>\n",
       "    <tr>\n",
       "      <th>2019-01-04</th>\n",
       "      <td>102.510002</td>\n",
       "      <td>98.930000</td>\n",
       "      <td>99.720001</td>\n",
       "      <td>101.930000</td>\n",
       "      <td>44060600.0</td>\n",
       "      <td>98.565681</td>\n",
       "    </tr>\n",
       "    <tr>\n",
       "      <th>2019-01-07</th>\n",
       "      <td>103.269997</td>\n",
       "      <td>100.980003</td>\n",
       "      <td>101.639999</td>\n",
       "      <td>102.059998</td>\n",
       "      <td>35656100.0</td>\n",
       "      <td>98.691383</td>\n",
       "    </tr>\n",
       "    <tr>\n",
       "      <th>2019-01-08</th>\n",
       "      <td>103.970001</td>\n",
       "      <td>101.709999</td>\n",
       "      <td>103.040001</td>\n",
       "      <td>102.800003</td>\n",
       "      <td>31514400.0</td>\n",
       "      <td>99.406990</td>\n",
       "    </tr>\n",
       "  </tbody>\n",
       "</table>\n",
       "</div>"
      ],
      "text/plain": [
       "                  High         Low        Open       Close      Volume  \\\n",
       "Date                                                                     \n",
       "2019-01-02  101.750000   98.940002   99.550003  101.120003  35329300.0   \n",
       "2019-01-03  100.190002   97.199997  100.099998   97.400002  42579100.0   \n",
       "2019-01-04  102.510002   98.930000   99.720001  101.930000  44060600.0   \n",
       "2019-01-07  103.269997  100.980003  101.639999  102.059998  35656100.0   \n",
       "2019-01-08  103.970001  101.709999  103.040001  102.800003  31514400.0   \n",
       "\n",
       "            Adj Close  \n",
       "Date                   \n",
       "2019-01-02  97.782433  \n",
       "2019-01-03  94.185211  \n",
       "2019-01-04  98.565681  \n",
       "2019-01-07  98.691383  \n",
       "2019-01-08  99.406990  "
      ]
     },
     "execution_count": 5,
     "metadata": {},
     "output_type": "execute_result"
    }
   ],
   "source": [
    "df.head()"
   ]
  },
  {
   "cell_type": "code",
   "execution_count": 6,
   "id": "d18eec4b",
   "metadata": {},
   "outputs": [
    {
     "name": "stdout",
     "output_type": "stream",
     "text": [
      "Dataframe Shape:  (748, 6)\n",
      "Null Value Present:  False\n"
     ]
    }
   ],
   "source": [
    "#Print the shape of Dataframe  and Check for Null Values\n",
    "print('Dataframe Shape: ', df. shape)\n",
    "print('Null Value Present: ', df.isnull().values.any())"
   ]
  },
  {
   "cell_type": "markdown",
   "id": "484cb89c",
   "metadata": {},
   "source": [
    "The Adjusted Close Value is the final output value that will be forecasted using the Machine Learning model. This figure indicates the stock’s closing price on that particular day of stock market trading."
   ]
  },
  {
   "cell_type": "code",
   "execution_count": 7,
   "id": "92832514",
   "metadata": {},
   "outputs": [
    {
     "data": {
      "text/plain": [
       "<AxesSubplot:xlabel='Date'>"
      ]
     },
     "execution_count": 7,
     "metadata": {},
     "output_type": "execute_result"
    },
    {
     "data": {
      "image/png": "[encoded data removed]",
      "text/plain": [
       "<Figure size 432x288 with 1 Axes>"
      ]
     },
     "metadata": {
      "needs_background": "light"
     },
     "output_type": "display_data"
    }
   ],
   "source": [
    "#Plot the True Adj Close Value\n",
    "df['Adj Close'].plot()"
   ]
  },
  {
   "cell_type": "markdown",
   "id": "3eb9fcd3",
   "metadata": {},
   "source": [
    "Setting the Target Variable and Selecting the Features\n",
    "\n",
    "The output column is then assigned to the target variable in the following step. It is the adjusted relative value of the Microsoft Stock in this situation. Furthermore, we pick the features that serve as the independent variable to the target variable (dependent variable). We choose four characteristics to account for training purposes:\n",
    "\n",
    "    Open\n",
    "    High\n",
    "    Low\n",
    "    Volume\n"
   ]
  },
  {
   "cell_type": "code",
   "execution_count": 8,
   "id": "4f2a43dd",
   "metadata": {},
   "outputs": [],
   "source": [
    "#Set Target Variable\n",
    "import pandas as pd\n",
    "output_var = pd.DataFrame(df['Adj Close'])\n",
    "#Selecting the Features\n",
    "features = ['Open', 'High', 'Low', 'Volume']"
   ]
  },
  {
   "cell_type": "markdown",
   "id": "306cb4c4",
   "metadata": {},
   "source": [
    "Scaling\n",
    "\n",
    "To decrease the computational cost of the data in the table, we will scale the stock values to values between 0 and 1. As a result, all of the data in large numbers is reduced, and therefore memory consumption is decreased. Also, because the data is not spread out in huge values, we can achieve greater precision by scaling down. To perform this we will be using the MinMaxScaler class of the sci-kit-learn library."
   ]
  },
  {
   "cell_type": "code",
   "execution_count": 9,
   "id": "c5e5f0be",
   "metadata": {},
   "outputs": [
    {
     "data": {
      "text/html": [
       "<div>\n",
       "<style scoped>\n",
       "    .dataframe tbody tr th:only-of-type {\n",
       "        vertical-align: middle;\n",
       "    }\n",
       "\n",
       "    .dataframe tbody tr th {\n",
       "        vertical-align: top;\n",
       "    }\n",
       "\n",
       "    .dataframe thead th {\n",
       "        text-align: right;\n",
       "    }\n",
       "</style>\n",
       "<table border=\"1\" class=\"dataframe\">\n",
       "  <thead>\n",
       "    <tr style=\"text-align: right;\">\n",
       "      <th></th>\n",
       "      <th>Open</th>\n",
       "      <th>High</th>\n",
       "      <th>Low</th>\n",
       "      <th>Volume</th>\n",
       "    </tr>\n",
       "    <tr>\n",
       "      <th>Date</th>\n",
       "      <th></th>\n",
       "      <th></th>\n",
       "      <th></th>\n",
       "      <th></th>\n",
       "    </tr>\n",
       "  </thead>\n",
       "  <tbody>\n",
       "    <tr>\n",
       "      <th>2019-01-02</th>\n",
       "      <td>0.000000</td>\n",
       "      <td>0.006253</td>\n",
       "      <td>0.007102</td>\n",
       "      <td>0.299239</td>\n",
       "    </tr>\n",
       "    <tr>\n",
       "      <th>2019-01-03</th>\n",
       "      <td>0.002244</td>\n",
       "      <td>0.000000</td>\n",
       "      <td>0.000000</td>\n",
       "      <td>0.381602</td>\n",
       "    </tr>\n",
       "    <tr>\n",
       "      <th>2019-01-04</th>\n",
       "      <td>0.000694</td>\n",
       "      <td>0.009299</td>\n",
       "      <td>0.007061</td>\n",
       "      <td>0.398432</td>\n",
       "    </tr>\n",
       "    <tr>\n",
       "      <th>2019-01-07</th>\n",
       "      <td>0.008528</td>\n",
       "      <td>0.012346</td>\n",
       "      <td>0.015429</td>\n",
       "      <td>0.302952</td>\n",
       "    </tr>\n",
       "    <tr>\n",
       "      <th>2019-01-08</th>\n",
       "      <td>0.014241</td>\n",
       "      <td>0.015152</td>\n",
       "      <td>0.018408</td>\n",
       "      <td>0.255900</td>\n",
       "    </tr>\n",
       "  </tbody>\n",
       "</table>\n",
       "</div>"
      ],
      "text/plain": [
       "                Open      High       Low    Volume\n",
       "Date                                              \n",
       "2019-01-02  0.000000  0.006253  0.007102  0.299239\n",
       "2019-01-03  0.002244  0.000000  0.000000  0.381602\n",
       "2019-01-04  0.000694  0.009299  0.007061  0.398432\n",
       "2019-01-07  0.008528  0.012346  0.015429  0.302952\n",
       "2019-01-08  0.014241  0.015152  0.018408  0.255900"
      ]
     },
     "execution_count": 9,
     "metadata": {},
     "output_type": "execute_result"
    }
   ],
   "source": [
    "from sklearn.preprocessing import MinMaxScaler\n",
    "#Scaling\n",
    "scaler = MinMaxScaler()\n",
    "feature_transform = scaler.fit_transform(df[features])\n",
    "feature_transform= pd.DataFrame(columns=features, data=feature_transform, index=df.index)\n",
    "feature_transform.head()"
   ]
  },
  {
   "cell_type": "markdown",
   "id": "5a0f9115",
   "metadata": {},
   "source": [
    "Creating a Training Set and a Test Set for Stock Market Prediction\n",
    "\n",
    "We have to divide the entire dataset into training and test sets before feeding it into the training model. The Machine Learning LSTM model will be trained on the data in the training set and tested for accuracy and backpropagation on the test set.\n",
    "\n",
    "The sci-kit-learn library’s TimeSeriesSplit class will be used for this. We set the number of splits to 10, indicating that 10% of the data will be used as the test set and 90% of the data would be used to train the LSTM model. The advantage of utilising this Time Series split is that the split time series data samples are examined at regular time intervals."
   ]
  },
  {
   "cell_type": "code",
   "execution_count": 10,
   "id": "6c909aad",
   "metadata": {},
   "outputs": [],
   "source": [
    "#Splitting to Training set and Test set\n",
    "timesplit= TimeSeriesSplit(n_splits=10)\n",
    "for train_index, test_index in timesplit.split(feature_transform):\n",
    "        X_train, X_test = feature_transform[:len(train_index)], feature_transform[len(train_index): (len(train_index)+len(test_index))]\n",
    "        y_train, y_test = output_var[:len(train_index)].values.ravel(), output_var[len(train_index): (len(train_index)+len(test_index))].values.ravel()"
   ]
  },
  {
   "cell_type": "markdown",
   "id": "837d23e5",
   "metadata": {},
   "source": [
    "Data Processing For LSTM\n",
    "\n",
    "Once the training and test sets are finalized, we will input the data into the LSTM model. Before we can do that, we must transform the training and test set data into a format that the LSTM model can interpret. As the LSTM needs that the data to be provided in the 3D form, we first transform the training and test data to NumPy arrays and then restructure them to match into the format (Number of Samples, 1, Number of Features). Now, 706 are the number of samples in the training set, which is 90% of 784, and the number of features is 4, therefore the training set is reshaped to reflect this (706, 1, 4). Likewise, the test set is reshaped."
   ]
  },
  {
   "cell_type": "code",
   "execution_count": 11,
   "id": "c44ff906",
   "metadata": {},
   "outputs": [],
   "source": [
    "#Process the data for LSTM\n",
    "\n",
    "trainX =np.array(X_train)\n",
    "testX =np.array(X_test)\n",
    "X_train = trainX.reshape(X_train.shape[0], 1, X_train.shape[1])\n",
    "X_test = testX.reshape(X_test.shape[0], 1, X_test.shape[1])"
   ]
  },
  {
   "cell_type": "markdown",
   "id": "6f65dfea",
   "metadata": {},
   "source": [
    "Building the LSTM Model for Stock Market Prediction\n",
    "\n",
    "Finally, we arrive at the point when we will construct the LSTM Model. In this step, we’ll build a Sequential Keras model with one LSTM layer. The LSTM layer has 32 units and is followed by one Dense Layer of one neuron.\n",
    "\n",
    "We compile the model using Adam Optimizer and the Mean Squared Error as the loss function. For an LSTM model, this is the most preferred combination. The model is plotted and presented below."
   ]
  },
  {
   "cell_type": "code",
   "execution_count": 12,
   "id": "b69318ce",
   "metadata": {},
   "outputs": [
    {
     "name": "stdout",
     "output_type": "stream",
     "text": [
      "('You must install pydot (`pip install pydot`) and install graphviz (see instructions at https://graphviz.gitlab.io/download/) ', 'for plot_model/model_to_dot to work.')\n"
     ]
    }
   ],
   "source": [
    "#Building the LSTM Model\n",
    "lstm = Sequential()\n",
    "lstm.add(LSTM(32, input_shape=(1, trainX.shape[1]), activation='relu', return_sequences=False))\n",
    "lstm.add(Dense(1))\n",
    "lstm.compile(loss='mean_squared_error', optimizer='adam')\n",
    "plot_model(lstm, show_shapes=True, show_layer_names=True)"
   ]
  },
  {
   "cell_type": "markdown",
   "id": "a5ce9b1b",
   "metadata": {},
   "source": [
    "Training the Stock Market Prediction Model\n",
    "\n",
    "Finally, we use the fit function to train the LSTM model created above on the training data for 100 epochs with a batch size of 8."
   ]
  },
  {
   "cell_type": "code",
   "execution_count": 13,
   "id": "1fe8a479",
   "metadata": {},
   "outputs": [
    {
     "name": "stdout",
     "output_type": "stream",
     "text": [
      "Epoch 1/100\n",
      "85/85 [==============================] - 6s 4ms/step - loss: 36622.9492\n",
      "Epoch 2/100\n",
      "85/85 [==============================] - 0s 4ms/step - loss: 36299.5391\n",
      "Epoch 3/100\n",
      "85/85 [==============================] - 0s 5ms/step - loss: 35650.7109\n",
      "Epoch 4/100\n",
      "85/85 [==============================] - 0s 5ms/step - loss: 34541.9180\n",
      "Epoch 5/100\n",
      "85/85 [==============================] - 1s 6ms/step - loss: 32923.7305\n",
      "Epoch 6/100\n",
      "85/85 [==============================] - 0s 5ms/step - loss: 30837.2227\n",
      "Epoch 7/100\n",
      "85/85 [==============================] - 0s 4ms/step - loss: 28383.2891\n",
      "Epoch 8/100\n",
      "85/85 [==============================] - 0s 5ms/step - loss: 25684.5527\n",
      "Epoch 9/100\n",
      "85/85 [==============================] - 0s 4ms/step - loss: 22860.2129\n",
      "Epoch 10/100\n",
      "85/85 [==============================] - 0s 4ms/step - loss: 20014.9082\n",
      "Epoch 11/100\n",
      "85/85 [==============================] - 0s 6ms/step - loss: 17235.7656\n",
      "Epoch 12/100\n",
      "85/85 [==============================] - 0s 5ms/step - loss: 14592.7324\n",
      "Epoch 13/100\n",
      "85/85 [==============================] - 0s 4ms/step - loss: 12139.7266\n",
      "Epoch 14/100\n",
      "85/85 [==============================] - 0s 5ms/step - loss: 9915.7695\n",
      "Epoch 15/100\n",
      "85/85 [==============================] - 0s 4ms/step - loss: 7945.9956\n",
      "Epoch 16/100\n",
      "85/85 [==============================] - 0s 4ms/step - loss: 6242.5898\n",
      "Epoch 17/100\n",
      "85/85 [==============================] - 0s 4ms/step - loss: 4805.8501\n",
      "Epoch 18/100\n",
      "85/85 [==============================] - 0s 4ms/step - loss: 3625.5444\n",
      "Epoch 19/100\n",
      "85/85 [==============================] - 0s 4ms/step - loss: 2682.6296\n",
      "Epoch 20/100\n",
      "85/85 [==============================] - 0s 4ms/step - loss: 1951.3634\n",
      "Epoch 21/100\n",
      "85/85 [==============================] - 0s 4ms/step - loss: 1401.7152\n",
      "Epoch 22/100\n",
      "85/85 [==============================] - 0s 4ms/step - loss: 1001.8920\n",
      "Epoch 23/100\n",
      "85/85 [==============================] - 0s 4ms/step - loss: 720.7256\n",
      "Epoch 24/100\n",
      "85/85 [==============================] - 0s 4ms/step - loss: 529.6594\n",
      "Epoch 25/100\n",
      "85/85 [==============================] - 0s 3ms/step - loss: 404.1246\n",
      "Epoch 26/100\n",
      "85/85 [==============================] - 0s 4ms/step - loss: 324.2123\n",
      "Epoch 27/100\n",
      "85/85 [==============================] - 0s 5ms/step - loss: 274.6968\n",
      "Epoch 28/100\n",
      "85/85 [==============================] - 1s 8ms/step - loss: 244.5639\n",
      "Epoch 29/100\n",
      "85/85 [==============================] - 1s 6ms/step - loss: 226.2608\n",
      "Epoch 30/100\n",
      "85/85 [==============================] - 0s 5ms/step - loss: 214.8693\n",
      "Epoch 31/100\n",
      "85/85 [==============================] - 0s 5ms/step - loss: 207.3411\n",
      "Epoch 32/100\n",
      "85/85 [==============================] - 0s 5ms/step - loss: 201.8760\n",
      "Epoch 33/100\n",
      "85/85 [==============================] - 0s 4ms/step - loss: 197.4607\n",
      "Epoch 34/100\n",
      "85/85 [==============================] - 0s 4ms/step - loss: 193.5527\n",
      "Epoch 35/100\n",
      "85/85 [==============================] - 0s 4ms/step - loss: 189.8761\n",
      "Epoch 36/100\n",
      "85/85 [==============================] - 0s 4ms/step - loss: 186.3000\n",
      "Epoch 37/100\n",
      "85/85 [==============================] - 0s 5ms/step - loss: 182.7671\n",
      "Epoch 38/100\n",
      "85/85 [==============================] - 0s 5ms/step - loss: 179.2563\n",
      "Epoch 39/100\n",
      "85/85 [==============================] - 0s 4ms/step - loss: 175.7619\n",
      "Epoch 40/100\n",
      "85/85 [==============================] - 0s 6ms/step - loss: 172.2852\n",
      "Epoch 41/100\n",
      "85/85 [==============================] - 0s 4ms/step - loss: 168.8295\n",
      "Epoch 42/100\n",
      "85/85 [==============================] - 0s 4ms/step - loss: 165.3979 0s - loss\n",
      "Epoch 43/100\n",
      "85/85 [==============================] - 0s 5ms/step - loss: 161.9935\n",
      "Epoch 44/100\n",
      "85/85 [==============================] - 0s 5ms/step - loss: 158.6190\n",
      "Epoch 45/100\n",
      "85/85 [==============================] - 0s 4ms/step - loss: 155.2763\n",
      "Epoch 46/100\n",
      "85/85 [==============================] - 0s 5ms/step - loss: 151.9669\n",
      "Epoch 47/100\n",
      "85/85 [==============================] - 0s 5ms/step - loss: 148.6921\n",
      "Epoch 48/100\n",
      "85/85 [==============================] - 0s 5ms/step - loss: 145.4533\n",
      "Epoch 49/100\n",
      "85/85 [==============================] - 0s 4ms/step - loss: 142.2509\n",
      "Epoch 50/100\n",
      "85/85 [==============================] - 0s 4ms/step - loss: 139.0862\n",
      "Epoch 51/100\n",
      "85/85 [==============================] - 1s 6ms/step - loss: 135.9594\n",
      "Epoch 52/100\n",
      "85/85 [==============================] - 0s 5ms/step - loss: 132.8713\n",
      "Epoch 53/100\n",
      "85/85 [==============================] - 0s 5ms/step - loss: 129.8221\n",
      "Epoch 54/100\n",
      "85/85 [==============================] - 0s 5ms/step - loss: 126.8123\n",
      "Epoch 55/100\n",
      "85/85 [==============================] - 0s 5ms/step - loss: 123.8425\n",
      "Epoch 56/100\n",
      "85/85 [==============================] - 0s 5ms/step - loss: 120.9123\n",
      "Epoch 57/100\n",
      "85/85 [==============================] - 0s 5ms/step - loss: 118.0224\n",
      "Epoch 58/100\n",
      "85/85 [==============================] - 0s 5ms/step - loss: 115.1727\n",
      "Epoch 59/100\n",
      "85/85 [==============================] - ETA: 0s - loss: 114.024 - 0s 5ms/step - loss: 112.3635\n",
      "Epoch 60/100\n",
      "85/85 [==============================] - 0s 5ms/step - loss: 109.5946\n",
      "Epoch 61/100\n",
      "85/85 [==============================] - 0s 4ms/step - loss: 106.8664\n",
      "Epoch 62/100\n",
      "85/85 [==============================] - 0s 4ms/step - loss: 104.1787\n",
      "Epoch 63/100\n",
      "85/85 [==============================] - 0s 4ms/step - loss: 101.5316\n",
      "Epoch 64/100\n",
      "85/85 [==============================] - 0s 4ms/step - loss: 98.9248\n",
      "Epoch 65/100\n",
      "85/85 [==============================] - 0s 5ms/step - loss: 96.3587\n",
      "Epoch 66/100\n",
      "85/85 [==============================] - 0s 5ms/step - loss: 93.8328\n",
      "Epoch 67/100\n",
      "85/85 [==============================] - 0s 4ms/step - loss: 91.3475\n",
      "Epoch 68/100\n",
      "85/85 [==============================] - 1s 6ms/step - loss: 88.9024\n",
      "Epoch 69/100\n",
      "85/85 [==============================] - 0s 4ms/step - loss: 86.4975\n",
      "Epoch 70/100\n",
      "85/85 [==============================] - 0s 3ms/step - loss: 84.1328\n",
      "Epoch 71/100\n",
      "85/85 [==============================] - 0s 3ms/step - loss: 81.8083\n",
      "Epoch 72/100\n",
      "85/85 [==============================] - 0s 3ms/step - loss: 79.5237\n",
      "Epoch 73/100\n",
      "85/85 [==============================] - 0s 4ms/step - loss: 77.2790\n",
      "Epoch 74/100\n",
      "85/85 [==============================] - 0s 3ms/step - loss: 75.0741\n",
      "Epoch 75/100\n",
      "85/85 [==============================] - 0s 3ms/step - loss: 72.9088\n",
      "Epoch 76/100\n",
      "85/85 [==============================] - 0s 3ms/step - loss: 70.7832\n",
      "Epoch 77/100\n",
      "85/85 [==============================] - 0s 3ms/step - loss: 68.6969\n",
      "Epoch 78/100\n",
      "85/85 [==============================] - 0s 4ms/step - loss: 66.6499\n",
      "Epoch 79/100\n",
      "85/85 [==============================] - 0s 5ms/step - loss: 64.6421\n",
      "Epoch 80/100\n",
      "85/85 [==============================] - 0s 5ms/step - loss: 62.6733\n",
      "Epoch 81/100\n",
      "85/85 [==============================] - 1s 6ms/step - loss: 60.7434\n",
      "Epoch 82/100\n",
      "85/85 [==============================] - 1s 6ms/step - loss: 58.8521: \n",
      "Epoch 83/100\n",
      "85/85 [==============================] - 1s 6ms/step - loss: 56.9994\n",
      "Epoch 84/100\n",
      "85/85 [==============================] - 0s 5ms/step - loss: 55.1849\n",
      "Epoch 85/100\n",
      "85/85 [==============================] - 0s 5ms/step - loss: 53.4086\n",
      "Epoch 86/100\n",
      "85/85 [==============================] - 0s 6ms/step - loss: 51.6702\n",
      "Epoch 87/100\n",
      "85/85 [==============================] - 0s 5ms/step - loss: 49.9694\n",
      "Epoch 88/100\n",
      "85/85 [==============================] - 0s 5ms/step - loss: 48.3061\n",
      "Epoch 89/100\n",
      "85/85 [==============================] - 0s 5ms/step - loss: 46.6801\n",
      "Epoch 90/100\n",
      "85/85 [==============================] - 1s 6ms/step - loss: 45.0911\n",
      "Epoch 91/100\n",
      "85/85 [==============================] - 0s 5ms/step - loss: 43.5388\n",
      "Epoch 92/100\n",
      "85/85 [==============================] - 1s 6ms/step - loss: 42.0230\n",
      "Epoch 93/100\n",
      "85/85 [==============================] - ETA: 0s - loss: 42.02 - 0s 5ms/step - loss: 40.5434\n",
      "Epoch 94/100\n",
      "85/85 [==============================] - 0s 4ms/step - loss: 39.0997\n",
      "Epoch 95/100\n",
      "85/85 [==============================] - 0s 5ms/step - loss: 37.6916\n",
      "Epoch 96/100\n",
      "85/85 [==============================] - 0s 5ms/step - loss: 36.3190\n",
      "Epoch 97/100\n",
      "85/85 [==============================] - 0s 5ms/step - loss: 34.9814\n",
      "Epoch 98/100\n",
      "85/85 [==============================] - ETA: 0s - loss: 35.12 - 0s 5ms/step - loss: 33.6786\n"
     ]
    },
    {
     "name": "stdout",
     "output_type": "stream",
     "text": [
      "Epoch 99/100\n",
      "85/85 [==============================] - 0s 4ms/step - loss: 32.4102\n",
      "Epoch 100/100\n",
      "85/85 [==============================] - 0s 4ms/step - loss: 31.1759\n"
     ]
    }
   ],
   "source": [
    "#Model Training\n",
    "history=lstm.fit(X_train, y_train, epochs=100, batch_size=8, verbose=1, shuffle=False)"
   ]
  },
  {
   "cell_type": "markdown",
   "id": "08626986",
   "metadata": {},
   "source": [
    "Finally, we can observe that the loss value has dropped exponentially over time over the 100-epoch training procedure, reaching a value of 31.1759."
   ]
  },
  {
   "cell_type": "markdown",
   "id": "3149c320",
   "metadata": {},
   "source": [
    "LSTM Prediction\n",
    "\n",
    "Now that we have our model ready, we can use it to forecast the Adjacent Close Value of the Microsoft stock by using a model trained using the LSTM network on the test set. This is accomplished by employing the simple predict function on the LSTM model that has been created."
   ]
  },
  {
   "cell_type": "code",
   "execution_count": 14,
   "id": "6786d226",
   "metadata": {},
   "outputs": [],
   "source": [
    "#LSTM Prediction\n",
    "y_pred= lstm.predict(X_test)"
   ]
  },
  {
   "cell_type": "markdown",
   "id": "11c7c6c9",
   "metadata": {},
   "source": [
    "Comparing Predicted vs True Adjusted Close Value – LSTM\n",
    "\n",
    "Finally, now that we’ve projected the values for the test set, we can display the graph to compare both Adj Close’s true values and Adj Close’s predicted value using the LSTM Machine Learning model."
   ]
  },
  {
   "cell_type": "code",
   "execution_count": 19,
   "id": "845a2d83",
   "metadata": {},
   "outputs": [
    {
     "data": {
      "image/png": "[encoded data removed]",
      "text/plain": [
       "<Figure size 432x288 with 1 Axes>"
      ]
     },
     "metadata": {
      "needs_background": "light"
     },
     "output_type": "display_data"
    }
   ],
   "source": [
    "#Predicted vs True Adj Close Value – LSTM\n",
    "plt.plot(y_test, label='True Value')\n",
    "plt.plot(y_pred, label='LSTM Value')\n",
    "plt.title('Prediction by LSTM')\n",
    "plt.xlabel('Time Scale')\n",
    "plt.ylabel('Scaled USD')\n",
    "plt.legend()\n",
    "plt.show()"
   ]
  },
  {
   "cell_type": "code",
   "execution_count": null,
   "id": "a2ff8032",
   "metadata": {},
   "outputs": [],
   "source": []
  },
  {
   "cell_type": "code",
   "execution_count": null,
   "id": "8f888ea6",
   "metadata": {},
   "outputs": [],
   "source": []
  },
  {
   "cell_type": "code",
   "execution_count": null,
   "id": "778e2b06",
   "metadata": {},
   "outputs": [],
   "source": []
  },
  {
   "cell_type": "code",
   "execution_count": null,
   "id": "59b03836",
   "metadata": {},
   "outputs": [],
   "source": []
  },
  {
   "cell_type": "code",
   "execution_count": null,
   "id": "e3ca6f20",
   "metadata": {},
   "outputs": [],
   "source": []
  },
  {
   "cell_type": "code",
   "execution_count": null,
   "id": "994e69e1",
   "metadata": {},
   "outputs": [],
   "source": []
  },
  {
   "cell_type": "code",
   "execution_count": null,
   "id": "fbbf3cb5",
   "metadata": {},
   "outputs": [],
   "source": []
  },
  {
   "cell_type": "code",
   "execution_count": null,
   "id": "083524b3",
   "metadata": {},
   "outputs": [],
   "source": []
  },
  {
   "cell_type": "code",
   "execution_count": null,
   "id": "4e390774",
   "metadata": {},
   "outputs": [],
   "source": []
  },
  {
   "cell_type": "code",
   "execution_count": null,
   "id": "c1b50244",
   "metadata": {},
   "outputs": [],
   "source": []
  },
  {
   "cell_type": "code",
   "execution_count": null,
   "id": "2b1e4a4f",
   "metadata": {},
   "outputs": [],
   "source": []
  },
  {
   "cell_type": "code",
   "execution_count": null,
   "id": "eb7b0ff0",
   "metadata": {},
   "outputs": [],
   "source": []
  },
  {
   "cell_type": "code",
   "execution_count": null,
   "id": "180e629a",
   "metadata": {},
   "outputs": [],
   "source": []
  },
  {
   "cell_type": "code",
   "execution_count": null,
   "id": "87e0fa6c",
   "metadata": {},
   "outputs": [],
   "source": []
  },
  {
   "cell_type": "code",
   "execution_count": null,
   "id": "48a20cfe",
   "metadata": {},
   "outputs": [],
   "source": []
  },
  {
   "cell_type": "code",
   "execution_count": null,
   "id": "919ff5d2",
   "metadata": {},
   "outputs": [],
   "source": []
  },
  {
   "cell_type": "code",
   "execution_count": null,
   "id": "5be23e6d",
   "metadata": {},
   "outputs": [],
   "source": []
  },
  {
   "cell_type": "code",
   "execution_count": null,
   "id": "3ff0c77f",
   "metadata": {},
   "outputs": [],
   "source": []
  },
  {
   "cell_type": "code",
   "execution_count": null,
   "id": "d53480d5",
   "metadata": {},
   "outputs": [],
   "source": []
  },
  {
   "cell_type": "code",
   "execution_count": null,
   "id": "dd5da0e8",
   "metadata": {},
   "outputs": [],
   "source": []
  },
  {
   "cell_type": "code",
   "execution_count": null,
   "id": "878acd89",
   "metadata": {},
   "outputs": [],
   "source": []
  },
  {
   "cell_type": "code",
   "execution_count": null,
   "id": "66be6afa",
   "metadata": {},
   "outputs": [],
   "source": []
  },
  {
   "cell_type": "code",
   "execution_count": null,
   "id": "d1916dc5",
   "metadata": {},
   "outputs": [],
   "source": []
  },
  {
   "cell_type": "code",
   "execution_count": null,
   "id": "87185eb1",
   "metadata": {},
   "outputs": [],
   "source": []
  },
  {
   "cell_type": "code",
   "execution_count": null,
   "id": "41dd60d7",
   "metadata": {},
   "outputs": [],
   "source": []
  },
  {
   "cell_type": "code",
   "execution_count": null,
   "id": "2113800b",
   "metadata": {},
   "outputs": [],
   "source": []
  },
  {
   "cell_type": "code",
   "execution_count": null,
   "id": "c100e333",
   "metadata": {},
   "outputs": [],
   "source": []
  },
  {
   "cell_type": "code",
   "execution_count": null,
   "id": "058f1a2a",
   "metadata": {},
   "outputs": [],
   "source": []
  },
  {
   "cell_type": "code",
   "execution_count": null,
   "id": "e5d3f722",
   "metadata": {},
   "outputs": [],
   "source": []
  },
  {
   "cell_type": "code",
   "execution_count": null,
   "id": "f738f72c",
   "metadata": {},
   "outputs": [],
   "source": []
  },
  {
   "cell_type": "code",
   "execution_count": null,
   "id": "5024f383",
   "metadata": {},
   "outputs": [],
   "source": []
  },
  {
   "cell_type": "code",
   "execution_count": null,
   "id": "9f358acf",
   "metadata": {},
   "outputs": [],
   "source": []
  },
  {
   "cell_type": "code",
   "execution_count": null,
   "id": "3c2b527b",
   "metadata": {},
   "outputs": [],
   "source": []
  }
 ],
 "metadata": {
  "kernelspec": {
   "display_name": "Python 3 (ipykernel)",
   "language": "python",
   "name": "python3"
  },
  "language_info": {
   "codemirror_mode": {
    "name": "ipython",
    "version": 3
   },
   "file_extension": ".py",
   "mimetype": "text/x-python",
   "name": "python",
   "nbconvert_exporter": "python",
   "pygments_lexer": "ipython3",
   "version": "3.9.7"
  }
 },
 "nbformat": 4,
 "nbformat_minor": 5
}
